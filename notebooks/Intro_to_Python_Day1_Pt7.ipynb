{
 "cells": [
  {
   "attachments": {},
   "cell_type": "markdown",
   "id": "9f9b762f",
   "metadata": {},
   "source": [
    "# CIDS Carpentries Workshop - Day 1 - Part 7\n",
    "# Making Plots with plotnine\n",
    "This lesson is adapted from the Data Carpentries [Data Analysis and Visualization in Python for Ecologists](https://datacarpentry.org/python-ecology-lesson/index.html) lesson.\n",
    "\n",
    "---\n",
    "## How to use a Jupyter Notebook\n",
    "Online Resources:\n",
    "- https://jupyter-notebook-beginner-guide.readthedocs.io/en/latest/index.html\n",
    "- https://code.visualstudio.com/docs/datascience/jupyter-notebooks \n",
    "\n",
    "Useful Tips:\n",
    "- To save the notebook/file, <kbd>ctrl</kbd> + <kbd>s</kbd> or Go to `File -> Save`.\n",
    "- You run a cell with <kbd>shift</kbd> + <kbd>enter</kbd> or\n",
    "    - **Jupyter Notebook, JupyterLab**: you can use the run button ▶ in the tool bar.\n",
    "    - **VScode**: you can use the run button ▶ in front of the cell.\n",
    "- If you run a cell with <kbd>option (alt)</kbd> + <kbd>enter</kbd> it will also create a new cell below.\n",
    "- If you opened this a classic notebook you can check *Help > Keyboard Shortcuts* else see the *Cheatsheet* for more info.\n",
    "- If you are using VScode, See [Jupyter Notebooks in VS Code](https://code.visualstudio.com/docs/datascience/jupyter-notebooks) for more info.\n",
    "- The notebook has different type of cells (Code and Markdown are most commonly used): \n",
    "    - **Code** cells expect code for the Kernel you have chosen, syntax highlighting is available, comments in the code are specified with `#` -> code after this will not be executed.\n",
    "    - **Markdown** cells allow you to right report style text, using markdown for formatting the style (e.g. Headers, bold face etc).\n",
    "---\n",
    "\n",
    "## ❓Questions and Objectives for this Notebook\n",
    "What should you be able to answer by the end of this notebook?\n",
    "\n",
    "### Questions\n",
    "\n",
    " - How can I visualise data in Python?\n",
    " - What is 'grammar of graphics'?\n",
    "\n",
    "### Objectives\n",
    "\n",
    "- Create a plotnine object.\n",
    "- Set universal plot settings.\n",
    "- Modify an existing plotnine object.\n",
    "- Change the aesthetics of a plot such as color.\n",
    "- Edit the axis labels.\n",
    "- Build complex plots using a step-by-step approach.\n",
    "- Create scatter plots, box plots and time series plots.\n",
    "- Use the facet_wrap and facet_grid commands to create a collection of plots splitting the data by a factor variable.\n",
    "- Create customised plot styles to meet their needs.\n"
   ]
  },
  {
   "cell_type": "markdown",
   "id": "92fb2ccc",
   "metadata": {},
   "source": [
    "Python has powerful built-in plotting capabilities such as matplotlib, but for this episode, we will be using the plotnine package, which facilitates the creation of highly-informative plots of structured data based on the R implementation of ggplot2 and The Grammar of Graphics by Leland Wilkinson. The plotnine package is built on top of Matplotlib and interacts well with Pandas.\n",
    "\n",
    "Just as with the other packages, plotnine needs to be imported. It is good practice to not just load an entire package such as from plotnine import *, but to use an abbreviation as we used pd for Pandas:"
   ]
  },
  {
   "cell_type": "code",
   "execution_count": 2,
   "id": "1d9194c0",
   "metadata": {},
   "outputs": [],
   "source": [
    "# Import plotnine\n",
    "%matplotlib inline\n",
    "import plotnine as p9\n",
    "\n",
    "# Loading in the data\n",
    "import pandas as pd\n",
    "\n",
    "surveys_complete = pd.read_csv('../data/surveys.csv')\n",
    "surveys_complete = surveys_complete.dropna()"
   ]
  },
  {
   "cell_type": "markdown",
   "id": "4a6c093c",
   "metadata": {},
   "source": [
    "---\n",
    "## Plotting with plotnine\n",
    "The plotnine package (cfr. other packages conform The Grammar of Graphics) supports the creation of complex plots from data in a dataframe. It uses default settings, which help creating publication quality plots with a minimal amount of settings and tweaking.\n",
    "\n",
    "plotnine graphics are built step by step by adding new elements adding different elements on top of each other using the + operator. Putting the individual steps together in brackets () provides Python-compatible syntax.\n",
    "\n",
    "To build a plotnine graphic we need to:\n",
    "1. Bind the plot to a specific data frame using the data argument"
   ]
  },
  {
   "cell_type": "code",
   "execution_count": null,
   "id": "d13d8a50",
   "metadata": {},
   "outputs": [],
   "source": [
    "(p9.ggplot(data=surveys_complete))"
   ]
  },
  {
   "cell_type": "markdown",
   "id": "13f8ce4f",
   "metadata": {},
   "source": [
    "As we have not defined anything else, just an empty figure is available and presented."
   ]
  },
  {
   "cell_type": "markdown",
   "id": "6ed18ac1",
   "metadata": {},
   "source": [
    "2. Define aesthetics (aes), by selecting variables used in the plot and mapping them to a presentation such as plotting size, shape, color, etc.\n",
    "\n",
    "    (The most important aes mappings are: x, y, alpha, color, colour, fill, linetype, shape, size and stroke.)"
   ]
  },
  {
   "cell_type": "code",
   "execution_count": null,
   "id": "efcb1392",
   "metadata": {},
   "outputs": [],
   "source": []
  },
  {
   "cell_type": "markdown",
   "id": "b22ffe7d",
   "metadata": {},
   "source": [
    "\n",
    "3. Define what kind of geometry will be used for the plot. The most straightforward is probably using points. Others are lines, bars,… To add a geom to the plot use + operator:\n"
   ]
  },
  {
   "cell_type": "code",
   "execution_count": null,
   "id": "a2cb93a0",
   "metadata": {},
   "outputs": [],
   "source": [
    "# The + in the plotnine package is particularly useful because it allows you to modify existing plotnine objects.\n",
    "\n",
    "# Create plotnine object\n",
    "\n",
    "# Draw the plotnine object"
   ]
  },
  {
   "cell_type": "markdown",
   "id": "c98439ed",
   "metadata": {},
   "source": [
    "## ✏️ Challenge - Bar Chart\n",
    "Working on the surveys_complete data set, use the plot-id column to create a bar-plot that counts the number of records for each plot. (Check the documentation of the bar geometry to handle the counts)"
   ]
  },
  {
   "cell_type": "code",
   "execution_count": null,
   "id": "86404a12",
   "metadata": {},
   "outputs": [],
   "source": [
    "# Bar Plot of \"plot_id\" vs counts"
   ]
  },
  {
   "cell_type": "markdown",
   "id": "14f73d27",
   "metadata": {},
   "source": [
    "---\n",
    "## Building your plots iteratively\n",
    "\n",
    "Building plots with plotnine is typically an iterative process. We start by defining the dataset we’ll use, lay the axes, and choose a geom. Hence, the data, aes and geom-* are the elementary elements of any graph:"
   ]
  },
  {
   "cell_type": "code",
   "execution_count": null,
   "id": "97f2b3e9",
   "metadata": {},
   "outputs": [],
   "source": [
    "# Basic Scatter Plot\n",
    "(p9.ggplot(data=surveys_complete,\n",
    "           mapping=p9.aes(x='weight', y='hindfoot_length'))\n",
    "    + p9.geom_point()\n",
    ")"
   ]
  },
  {
   "cell_type": "markdown",
   "id": "30579eec",
   "metadata": {},
   "source": [
    "Then, we start modifying this plot to extract more information from it. For instance, we can add transparency (alpha) to avoid overplotting:"
   ]
  },
  {
   "cell_type": "code",
   "execution_count": null,
   "id": "16de437d",
   "metadata": {},
   "outputs": [],
   "source": [
    "# Adding Transparency"
   ]
  },
  {
   "cell_type": "markdown",
   "id": "f74fc133",
   "metadata": {},
   "source": [
    "We can also add colors for all the points."
   ]
  },
  {
   "cell_type": "code",
   "execution_count": null,
   "id": "af90b3ca",
   "metadata": {},
   "outputs": [],
   "source": [
    "# Adding Color"
   ]
  },
  {
   "cell_type": "markdown",
   "id": "2345e62f",
   "metadata": {},
   "source": [
    "Or to color each species in the plot differently, map the species_id column to the color aesthetic:"
   ]
  },
  {
   "cell_type": "code",
   "execution_count": null,
   "id": "70ba589a",
   "metadata": {},
   "outputs": [],
   "source": [
    "# Coloring by \"species_id\""
   ]
  },
  {
   "cell_type": "markdown",
   "id": "a31b4f5d",
   "metadata": {},
   "source": [
    "Apart from the adaptations of the arguments and settings of the data, aes and geom-* elements, additional elements can be added as well, using the + operator:"
   ]
  },
  {
   "cell_type": "code",
   "execution_count": null,
   "id": "363cc098",
   "metadata": {},
   "outputs": [],
   "source": [
    "# Changing the Labels"
   ]
  },
  {
   "cell_type": "code",
   "execution_count": null,
   "id": "83287e75",
   "metadata": {},
   "outputs": [],
   "source": [
    "# Defining scale for colors, axes,… \n",
    "# For example, a log-version of the x-axis could support the interpretation of the lower numbers:"
   ]
  },
  {
   "cell_type": "code",
   "execution_count": null,
   "id": "27643b84",
   "metadata": {},
   "outputs": [],
   "source": [
    "# Changing the theme (theme_*) or some specific theming (theme) elements. \n",
    "# Usually plots with white background look more readable when printed. \n",
    "# We can set the background to white using the function theme_bw()."
   ]
  },
  {
   "cell_type": "markdown",
   "id": "b8208618",
   "metadata": {},
   "source": [
    "## ✏️ Challenge - Bar Plot Adaptations\n",
    "Adapt the bar plot of the previous exercise by mapping the sex variable to the color fill of the bar chart. \n",
    "\n",
    "Change the scale of the color fill by providing the colors blue and orange manually."
   ]
  },
  {
   "cell_type": "code",
   "execution_count": null,
   "id": "4f017d52",
   "metadata": {},
   "outputs": [],
   "source": []
  },
  {
   "cell_type": "markdown",
   "id": "ea5d60df",
   "metadata": {},
   "source": [
    "---\n",
    "## Plotting Distributions\n",
    "\n",
    "Visualizing distributions is a common task during data exploration and analysis. To visualize the distribution of weight within each species_id group, a boxplot can be used:"
   ]
  },
  {
   "cell_type": "code",
   "execution_count": null,
   "id": "b16f76c1",
   "metadata": {},
   "outputs": [],
   "source": [
    "# Box Plot of \"species_id\" vs. \"weight\""
   ]
  },
  {
   "cell_type": "markdown",
   "id": "e8af1338",
   "metadata": {},
   "source": [
    "By adding points of the individual observations to the boxplot, we can have a better idea of the number of measurements and of their distribution:"
   ]
  },
  {
   "cell_type": "code",
   "execution_count": null,
   "id": "4a4c5d71",
   "metadata": {},
   "outputs": [],
   "source": [
    "# Adding geom_jitter() to the plot to show the individual data points."
   ]
  },
  {
   "cell_type": "markdown",
   "id": "2f4bfc83",
   "metadata": {},
   "source": [
    "## ✏️ Challenge - Distributions\n",
    "Boxplots are useful summaries, but hide the shape of the distribution. For example, if there is a bimodal distribution, this would not be observed with a boxplot. An alternative to the boxplot is the violin plot (sometimes known as a beanplot), where the shape (of the density of points) is drawn.\n",
    "\n",
    "In many types of data, it is important to consider the scale of the observations. For example, it may be worth changing the scale of the axis to better distribute the observations in the space of the plot.\n",
    "\n",
    "- Replace the box plot with a violin plot, see geom_violin()\n",
    "- Represent weight on the log10 scale, see scale_y_log10()\n",
    "- Add color to the datapoints on your boxplot according to the plot from which the sample was taken (plot_id)\n",
    "\n",
    "Hint: Check the class for plot_id. By using factor() within the aes mapping of a variable, plotnine will handle the values as category values."
   ]
  },
  {
   "cell_type": "code",
   "execution_count": null,
   "id": "2b0ec86d",
   "metadata": {},
   "outputs": [],
   "source": []
  },
  {
   "cell_type": "markdown",
   "id": "2e3098f5",
   "metadata": {},
   "source": [
    "---\n",
    "## Plotting Time Series Data\n",
    "Let’s calculate number of counts per year for each species. To do that we need to group data first and count the species (species_id) within each group."
   ]
  },
  {
   "cell_type": "code",
   "execution_count": null,
   "id": "b02b101c",
   "metadata": {},
   "outputs": [],
   "source": [
    "# Counting the count of species in each year\n",
    "yearly_counts = surveys_complete.groupby(['year', 'species_id'])['species_id'].count()\n",
    "yearly_counts"
   ]
  },
  {
   "cell_type": "markdown",
   "id": "02d29184",
   "metadata": {},
   "source": [
    "When checking the result of the previous calculation, we actually have both the year and the species_id as a row index. We can reset this index to use both as column variable:"
   ]
  },
  {
   "cell_type": "code",
   "execution_count": null,
   "id": "15762076",
   "metadata": {},
   "outputs": [],
   "source": [
    "# Resetting the row index\n",
    "yearly_counts = yearly_counts.reset_index(name='counts')\n",
    "yearly_counts"
   ]
  },
  {
   "cell_type": "markdown",
   "id": "0dd8b790",
   "metadata": {},
   "source": [
    "Timelapse data can be visualised as a line plot (geom_line) with years on x axis and counts on the y axis."
   ]
  },
  {
   "cell_type": "code",
   "execution_count": null,
   "id": "5ab38dcb",
   "metadata": {},
   "outputs": [],
   "source": []
  },
  {
   "cell_type": "markdown",
   "id": "60e3c3f1",
   "metadata": {},
   "source": [
    "Unfortunately this does not work, because we plot data for all the species together. We need to tell plotnine to draw a line for each species by modifying the aesthetic function and map the species_id to the color:"
   ]
  },
  {
   "cell_type": "code",
   "execution_count": null,
   "id": "7bd255b9",
   "metadata": {},
   "outputs": [],
   "source": [
    "# Color by \"species_id\""
   ]
  },
  {
   "cell_type": "markdown",
   "id": "61d038d1",
   "metadata": {},
   "source": [
    "---\n",
    "## Faceting\n",
    "As any other library supporting the Grammar of Graphics, plotnine has a special technique called faceting that allows to split one plot into multiple plots based on a factor variable included in the dataset.\n",
    "\n",
    "Consider our scatter plot of the weight versus the hindfoot_length from the previous sections:\n"
   ]
  },
  {
   "cell_type": "code",
   "execution_count": null,
   "id": "93157372",
   "metadata": {},
   "outputs": [],
   "source": [
    "# Scatter Plot of weight vs. hindfoot_length"
   ]
  },
  {
   "cell_type": "markdown",
   "id": "026b7608",
   "metadata": {},
   "source": [
    "We can now keep the same code and at the facet_wrap on a chosen variable to split out the graph and make a separate graph for each of the groups in that variable. As an example, use sex:"
   ]
  },
  {
   "cell_type": "code",
   "execution_count": null,
   "id": "d2d8f286",
   "metadata": {},
   "outputs": [],
   "source": [
    "# facet_wrap by \"sex\""
   ]
  },
  {
   "cell_type": "markdown",
   "id": "a189c437",
   "metadata": {},
   "source": [
    "We can apply the same concept on any of the available categorical variables:"
   ]
  },
  {
   "cell_type": "code",
   "execution_count": null,
   "id": "6995f4f5",
   "metadata": {},
   "outputs": [],
   "source": [
    "# facet_wrap by \"plot_id\""
   ]
  },
  {
   "cell_type": "markdown",
   "id": "e6c8a67e",
   "metadata": {},
   "source": [
    "The facet_wrap geometry extracts plots into an arbitrary number of dimensions to allow them to cleanly fit on one page. \n",
    "\n",
    "On the other hand, the facet_grid geometry allows you to explicitly specify how you want your plots to be arranged via formula notation (rows ~ columns; a . can be used as a placeholder that indicates only one row or column)."
   ]
  },
  {
   "cell_type": "code",
   "execution_count": null,
   "id": "db42b2db",
   "metadata": {},
   "outputs": [],
   "source": [
    "# Selecting years of interest\n",
    "\n",
    "# Plotting with facet_grid()"
   ]
  },
  {
   "cell_type": "markdown",
   "id": "be5bbc75",
   "metadata": {},
   "source": [
    "## ✏️ Challenge - Distributions\n",
    "1. Create a separate plot for each of the species that depicts how the average weight of the species changes through the years.\n",
    "2. Based on the previous exercise, visually compare how the weights of male and females has changed through time by creating a separate plot for each sex and an individual color assigned to each species_id."
   ]
  },
  {
   "cell_type": "code",
   "execution_count": null,
   "id": "5818f5b5",
   "metadata": {},
   "outputs": [],
   "source": [
    "# 1"
   ]
  },
  {
   "cell_type": "code",
   "execution_count": null,
   "id": "b20a2ec7",
   "metadata": {},
   "outputs": [],
   "source": [
    "# 2"
   ]
  },
  {
   "cell_type": "markdown",
   "id": "c46edbc2",
   "metadata": {},
   "source": [
    "---\n",
    "## Further Customisation\n",
    "As the syntax of plotnine follows the original R package ggplot2, the documentation of ggplot2 can provide information and inspiration to customize graphs. Take a look at the ggplot2 cheat sheet, and think of ways to improve the plot. \n",
    "\n",
    "The theming options provide a rich set of visual adaptations. Consider the following example of a bar plot with the counts per year."
   ]
  },
  {
   "cell_type": "code",
   "execution_count": null,
   "id": "d3e7b898",
   "metadata": {},
   "outputs": [],
   "source": [
    "# Bar Plot of Counts per Year"
   ]
  },
  {
   "cell_type": "markdown",
   "id": "cc78dc05",
   "metadata": {},
   "source": [
    "Notice that we use the year here as a categorical variable by using the factor functionality. However, by doing so, we have the individual year labels overlapping with each other. The theme functionality provides a way to rotate the text of the x-axis labels:"
   ]
  },
  {
   "cell_type": "code",
   "execution_count": null,
   "id": "252df488",
   "metadata": {},
   "outputs": [],
   "source": [
    "# Rotating the x-axis labels"
   ]
  },
  {
   "cell_type": "markdown",
   "id": "0588fd45",
   "metadata": {},
   "source": [
    "When you like a specific set of theme-customizations you created, you can save them as an object to easily apply them to other plots you may create:"
   ]
  },
  {
   "cell_type": "code",
   "execution_count": null,
   "id": "5f894122",
   "metadata": {},
   "outputs": [],
   "source": [
    "# Defining a custom theme\n",
    "\n",
    "# Adding the theme to the plot"
   ]
  },
  {
   "cell_type": "markdown",
   "id": "4110c231",
   "metadata": {},
   "source": [
    "---\n",
    "## Exporting Plots\n",
    "After creating your plot, you can save it to a file in your favourite format. You can easily change the dimension (and its resolution) of your plot by adjusting the appropriate arguments (width, height and dpi):"
   ]
  },
  {
   "cell_type": "code",
   "execution_count": null,
   "id": "08753be9",
   "metadata": {},
   "outputs": [],
   "source": [
    "# Exporting a plot to a file\n",
    "my_plot = (p9.ggplot(data=surveys_complete,\n",
    "           mapping=p9.aes(x='weight', y='hindfoot_length'))\n",
    "    + p9.geom_point()\n",
    ")\n",
    "\n",
    "# Export to a file named scatterplot.png"
   ]
  },
  {
   "cell_type": "markdown",
   "id": "6e11f486",
   "metadata": {},
   "source": [
    "# ❗Key Points from this notebook\n",
    "\n",
    "- The data, aes variables and a geometry are the main elements of a plotnine graph\n",
    "\n",
    "- With the + operator, additional scale_*, theme_*, xlab/ylab and facet_* elements are added\n"
   ]
  },
  {
   "cell_type": "markdown",
   "id": "977cbd8f",
   "metadata": {},
   "source": [
    "# ❗Key Points from all of today\n",
    "\n",
    "-  Python is an interpreted language which can be used interactively or in scripting mode (executing a series of commands saved in file).\n",
    "\n",
    "- One can assign a value to a variable in Python. Those variables can be of several types, such as string, integer, floating point and complex numbers.\n",
    "- Lists and tuples are similar in that they are ordered lists of elements; they differ in that a tuple is immutable (cannot be changed).\n",
    "\n",
    "- Dictionaries are data structures that provide mappings between keys and values.\n",
    "\n",
    "- Libraries enable us to extend the functionality of Python.\n",
    "\n",
    "- Pandas is a popular library for working with data.\n",
    "- A Dataframe is a Pandas data structure that allows one to access data by column (name or index) or row.\n",
    "\n",
    "- Aggregating data using the groupby() function enables you to generate useful summaries of data quickly.\n",
    "\n",
    "- Plots can be created from DataFrames or subsets of data that have been generated with groupby().\n",
    "\n",
    "- In Python, portions of data can be accessed using indices, slices, column headings, and condition-based subsetting.\n",
    "\n",
    "- Python uses 0-based indexing, in which the first element in a list, tuple or any other data structure has an index of 0.\n",
    "\n",
    "- Pandas enables common data exploration steps such as data indexing, slicing and conditional subsetting.\n",
    "\n",
    "- Pandas uses other names for data types than Python, for example: object for textual data.\n",
    "\n",
    "- A column in a DataFrame can only have one data type.\n",
    "\n",
    "- The data type in a DataFrame’s single column can be checked using dtype.\n",
    "\n",
    "- Make conscious decisions about how to manage missing data.\n",
    "\n",
    "- A DataFrame can be saved to a CSV file using the to_csv function.\n",
    "\n",
    "- Pandas’ `merge` and `concat` can be used to combine subsets of a DataFrame, or even data from different files.\n",
    "\n",
    "- `join` function combines DataFrames based on index or column.\n",
    "\n",
    "- Joining two DataFrames can be done in multiple ways (left, right, and inner) depending on what data must be in the final DataFrame.\n",
    "\n",
    "- `to_csv` can be used to write out DataFrames in CSV format.\n",
    "\n",
    "- Loops are 🔥\n",
    " \n",
    "- Functions are 💯\n",
    "\n",
    "- plotnine is pretty!\n",
    "\n",
    "\n",
    "## 🥷 Sneaky section: Answers\n",
    "Answers to all of the notebooks can be found at the carpentries website:\n",
    "https://datacarpentry.org/python-ecology-lesson/index.html"
   ]
  }
 ],
 "metadata": {
  "kernelspec": {
   "display_name": "Python 3 (ipykernel)",
   "language": "python",
   "name": "python3"
  },
  "language_info": {
   "codemirror_mode": {
    "name": "ipython",
    "version": 3
   },
   "file_extension": ".py",
   "mimetype": "text/x-python",
   "name": "python",
   "nbconvert_exporter": "python",
   "pygments_lexer": "ipython3",
   "version": "3.11.6"
  }
 },
 "nbformat": 4,
 "nbformat_minor": 5
}
