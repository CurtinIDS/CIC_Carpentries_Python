{
 "cells": [
  {
   "cell_type": "markdown",
   "id": "91a434d6",
   "metadata": {},
   "source": [
    "# CIC Carpentries Workshop - Day 1 - Part 4\n",
    "This lesson is adapted from the Data Carpentries [Data Analysis and Visualization in Python for Ecologists](https://datacarpentry.org/python-ecology-lesson/index.html) lesson.\n",
    "\n",
    "---\n",
    "## How to use a Jupyter Notebook\n",
    "Online Resources:\n",
    "- https://jupyter-notebook-beginner-guide.readthedocs.io/en/latest/index.html\n",
    "- https://www.packtpub.com/books/content/getting-started-jupyter-notebook-part-1\n",
    "\n",
    "Useful Tips:\n",
    "- The notebook autosaves\n",
    "- You run a cell with **shift + enter** or using the run button in the tool bar\n",
    "- If you run a cell with **option + enter** it will also create a new cell below\n",
    "- See *Help > Keyboard Shortcuts* or the *Cheatsheet* for more info\n",
    "- The notebook has different type of cells (Code and Markdown are most commonly used): \n",
    "    - **Code** cells expect code for the Kernel you have chosen, syntax highlighting is available, comments in the code are specified with # -> code after this will not be executed\n",
    "    - **Markdown** cells allow you to right report style text, using markdown for formatting the style (e.g. Headers, bold face etc)\n",
    "---"
   ]
  },
  {
   "cell_type": "markdown",
   "id": "e997dca9",
   "metadata": {},
   "source": [
    "## ❓Questions and Objectives for this Notebook\n",
    "What should you be able to answer by the end of this notebook?\n",
    "### Questions\n",
    "\n",
    "- What types of data can be contained in a DataFrame?\n",
    "- Why is the data type important?\n",
    "\n",
    "### Objectives\n",
    "\n",
    "- Describe how information is stored in a Python DataFrame.\n",
    "- Define the two main types of data in Python: text and numerics.\n",
    "- Examine the structure of a DataFrame.\n",
    "- Modify the format of values in a DataFrame.\n",
    "- Describe how data types impact operations.\n",
    "- Define, manipulate, and interconvert integers and floats in Python.\n",
    "- Analyze datasets having missing/null values (NaN values).\n",
    "- Write manipulated data to a file.\n",
    "\n"
   ]
  },
  {
   "cell_type": "markdown",
   "id": "7e3d0706",
   "metadata": {},
   "source": [
    "---\n",
    "# Types of Data\n",
    "How information is stored in a DataFrame or a Python object affects what we can do with it and the outputs of calculations as well. There are two main types of data that we will explore in this lesson: numeric and text data types."
   ]
  },
  {
   "cell_type": "markdown",
   "id": "60ce1b4f",
   "metadata": {},
   "source": [
    "# Numeric Data Types\n",
    "Numeric data types include integers and floats. A **floating point** number (known as a float)  has decimal points even if that decimal point value is 0. For example: 1.13, 2.0, 1234.345. If we have a column that contains both integers and floating point numbers, Pandas will assign the entire column to the float data type so the decimal points are not lost.\n",
    "\n",
    "An **integer** will never have a decimal point. Thus if we wanted to store 1.13 as an integer it would be stored as 1. Similarly, 1234.345 would be stored as 1234. You will often see the data type `Int64` in Python which stands for 64 bit integer. The 64 refers to the memory allocated to store data in each cell which effectively relates to how many digits it can store in each “cell”. Allocating space ahead of time allows computers to optimize storage and processing efficiency."
   ]
  },
  {
   "cell_type": "markdown",
   "id": "c118c524",
   "metadata": {},
   "source": [
    "# Text Data Type\n",
    "The text data type is known as a 'string' in Python, or 'object' in Pandas. Strings can contain numbers and / or characters. For example, a string might be a word, a sentence, or several sentences. A Pandas object might also be a plot name like ‘plot1’. A string can also contain or consist of numbers. For instance, ‘1234’ could be stored as a string, as could ‘10.23’. However **strings that contain numbers can not be used for mathematical operations!**  \n",
    "\n",
    "## Pandas vs Python\n",
    "Pandas and base Python use slightly different names for data types. More on this is in the table below:\n",
    "\n",
    "| Pandas Type  |  Native Python Type  | Description  |\n",
    "|:---:|:---:|:---:|\n",
    "| object  |  \tstring  |  The most general dtype. Will be assigned to your column if column has mixed types (numbers and strings). |\n",
    "|  int64  |  int |  Numeric characters. 64 refers to the memory allocated to hold this character. |\n",
    "|  float64  |  float  |  Numeric characters with decimals. If a column contains numbers and NaNs (see below), pandas will default to float64, in case your missing value has a decimal.  |\n",
    "|  datetime64,  timedelta[ns]  |  N/A (but see the [datetime module](https://docs.python.org/2/library/datetime.html) in Python’s standard library)  | Values meant to hold time data. Look into these for time series experiments.  |"
   ]
  },
  {
   "cell_type": "markdown",
   "id": "add1f857",
   "metadata": {},
   "source": [
    "# Checking the format of our data\n",
    "Now that we’re armed with a basic understanding of numeric and text data types, let’s explore the format of our survey data. We’ll be working with the same surveys.csv dataset that we’ve used in previous lessons."
   ]
  },
  {
   "cell_type": "code",
   "execution_count": null,
   "id": "591b868d",
   "metadata": {},
   "outputs": [],
   "source": [
    "# Make sure pandas is loaded\n",
    "\n",
    "# Load data - note that pd.read_csv is used because we imported pandas as pd\n"
   ]
  },
  {
   "cell_type": "markdown",
   "id": "6eb3f360",
   "metadata": {},
   "source": [
    "Remember that we can check the type of an object like this:  \n",
    "\n",
    "`type(var_name)`\n"
   ]
  },
  {
   "cell_type": "code",
   "execution_count": null,
   "id": "ea6e74fa",
   "metadata": {},
   "outputs": [],
   "source": [
    "# Check the data type of the data frame we made:\n"
   ]
  },
  {
   "cell_type": "markdown",
   "id": "592186c0",
   "metadata": {},
   "source": [
    "Next, let’s look at the structure of our surveys data. In pandas, we can check the type of one column in a DataFrame using the syntax `dataFrameName[column_name].dtype`:"
   ]
  },
  {
   "cell_type": "code",
   "execution_count": null,
   "id": "c6c8ca34",
   "metadata": {},
   "outputs": [],
   "source": [
    "# Check the data type of the column 'sex'\n"
   ]
  },
  {
   "cell_type": "markdown",
   "id": "f8747dea",
   "metadata": {},
   "source": [
    "A type ‘O’ just stands for “object” which in Pandas’ world is a string (text)."
   ]
  },
  {
   "cell_type": "code",
   "execution_count": null,
   "id": "4225f107",
   "metadata": {},
   "outputs": [],
   "source": [
    "# Now check the column for 'record_id'\n"
   ]
  },
  {
   "cell_type": "markdown",
   "id": "52810ace",
   "metadata": {},
   "source": [
    "The type `int64` tells us that Python is storing each value within this column as a 64 bit integer.   \n",
    " \n",
    "We can use the `dat.dtypes` command to view the data type for each column in a DataFrame (all at once)."
   ]
  },
  {
   "cell_type": "code",
   "execution_count": null,
   "id": "20550b08",
   "metadata": {},
   "outputs": [],
   "source": []
  },
  {
   "cell_type": "markdown",
   "id": "c2d045e0",
   "metadata": {},
   "source": [
    "Note that most of the columns in our Survey data are of type `int64`. This means that they are 64 bit integers. But the weight column is a floating point value which means it contains decimals. The `species_id` and `sex` columns are objects which means they contain strings."
   ]
  },
  {
   "cell_type": "markdown",
   "id": "47d4240a",
   "metadata": {},
   "source": [
    "---\n",
    "# Working With Integers and Floats\n",
    "So we’ve learned that computers store numbers in one of two ways: as integers or as floating-point numbers (or floats). Integers are the numbers we usually count with. Floats have fractional parts (decimal places). Let’s next consider how the data type can impact mathematical operations on our data. Addition, subtraction, division and multiplication work on floats and integers as we’d expect."
   ]
  },
  {
   "cell_type": "code",
   "execution_count": null,
   "id": "0a935e97",
   "metadata": {},
   "outputs": [],
   "source": [
    "# Add some things\n"
   ]
  },
  {
   "cell_type": "code",
   "execution_count": null,
   "id": "eb16b7e1",
   "metadata": {},
   "outputs": [],
   "source": [
    "# Subtract some things\n"
   ]
  },
  {
   "cell_type": "markdown",
   "id": "e8e78557",
   "metadata": {},
   "source": [
    "If we divide one integer by another, we get a float. The result on Python 3 is different than in Python 2, where the result is an integer (integer division)."
   ]
  },
  {
   "cell_type": "code",
   "execution_count": null,
   "id": "5671f23e",
   "metadata": {},
   "outputs": [],
   "source": [
    "# Divide two integers\n"
   ]
  },
  {
   "cell_type": "code",
   "execution_count": null,
   "id": "788a274d",
   "metadata": {},
   "outputs": [],
   "source": [
    "# Try some different numbers!\n"
   ]
  },
  {
   "cell_type": "markdown",
   "id": "d6e96064",
   "metadata": {},
   "source": [
    "We can still use integer division if we want with the `//` operator (two division symbols). This will apply a division, but throw away the remainder"
   ]
  },
  {
   "cell_type": "code",
   "execution_count": null,
   "id": "cd3c59c6",
   "metadata": {},
   "outputs": [],
   "source": [
    "# Now try \"Integer\" division\n"
   ]
  },
  {
   "cell_type": "markdown",
   "id": "0b5ebf3c",
   "metadata": {},
   "source": [
    "We can also convert a floating point number to an integer or an integer to floating point number. Notice that Python by default rounds down when it converts from floating point to integer."
   ]
  },
  {
   "cell_type": "code",
   "execution_count": null,
   "id": "2158cd0b",
   "metadata": {},
   "outputs": [],
   "source": [
    "a = 7.83\n",
    "# Convert a to an integer\n"
   ]
  },
  {
   "cell_type": "code",
   "execution_count": null,
   "id": "e4e41fbb",
   "metadata": {},
   "outputs": [],
   "source": [
    "b = 7\n",
    "# Convert b to a float\n"
   ]
  },
  {
   "cell_type": "code",
   "execution_count": null,
   "id": "3e628a9e-923c-4eb2-943a-fed41714013e",
   "metadata": {},
   "outputs": [],
   "source": []
  },
  {
   "cell_type": "markdown",
   "id": "2046edad",
   "metadata": {},
   "source": [
    "---\n",
    "# Working With Our Survey Data\n",
    "Getting back to our data, we can modify the format of values within our data, if we want. For instance, we could convert the record_id field to floating point values."
   ]
  },
  {
   "cell_type": "code",
   "execution_count": null,
   "id": "7c0abe61",
   "metadata": {},
   "outputs": [],
   "source": [
    "# Convert the record_id field from an integer to a float\n",
    "surveys_df['record_id'] = \n"
   ]
  },
  {
   "cell_type": "markdown",
   "id": "ae025944",
   "metadata": {},
   "source": [
    "### ✏️ Challenge:\n",
    "Try converting the column plot_id to floats using:  \n",
    "```py\n",
    "surveys_df.plot_id.astype(\"float\")\n",
    "```\n",
    "\n",
    "Then try converting `weight` to an integer. What goes wrong here? What is Pandas telling you? We will talk about some solutions to this later."
   ]
  },
  {
   "cell_type": "code",
   "execution_count": null,
   "id": "9466e941",
   "metadata": {},
   "outputs": [],
   "source": []
  },
  {
   "cell_type": "code",
   "execution_count": null,
   "id": "2a94dd26",
   "metadata": {},
   "outputs": [],
   "source": []
  },
  {
   "cell_type": "markdown",
   "id": "74a871a9",
   "metadata": {},
   "source": [
    "# Missing Data Values - NaN\n",
    "What happened in the last challenge activity? Notice that this throws one of the following errors: `ValueError: Cannot convert NA to integer` or `IntCastingNaNError: Cannot convert non-finite values (NA or inf) to integer`. If we look at the weight column in the surveys data we notice that there are NaN (Not a Number) values. NaN values are undefined values that cannot be represented mathematically. Pandas, for example, will read an empty cell in a CSV or Excel sheet as a NaN. NaNs have some desirable properties: if we were to average the weight column without replacing our NaNs, Python would know to skip over those cells."
   ]
  },
  {
   "cell_type": "code",
   "execution_count": null,
   "id": "419b7e7d",
   "metadata": {},
   "outputs": [],
   "source": [
    "# Average the weight column\n"
   ]
  },
  {
   "cell_type": "markdown",
   "id": "a6fcfcd9",
   "metadata": {},
   "source": [
    "Dealing with missing data values is always a challenge. It’s sometimes hard to know why values are missing - was it because of a data entry error? Or data that someone was unable to collect? Should the value be 0? We need to know how missing values are represented in the dataset in order to make good decisions. If we’re lucky, we have some metadata that will tell us more about how null values were handled.\n",
    "\n",
    "For instance, in some disciplines, like Remote Sensing, missing data values are often defined as -9999 or -999. Having a bunch of -9999 values in your data could really alter numeric calculations. Often in spreadsheets, cells are left empty where no data are available. Pandas will, by default, replace those missing values with NaN. However it is good practice to get in the habit of intentionally marking cells that have no data, with a no data value! That way there are no questions in the future when you (or someone else) explores your data."
   ]
  },
  {
   "cell_type": "markdown",
   "id": "75ca6b30",
   "metadata": {},
   "source": [
    "# Where Are the NaN’s?\n",
    "Let’s explore the NaN values in our data a bit further. Using the tools we learned in lesson 02 (from yesterday!), we can figure out how many rows contain NaN values for weight. We can also create a new subset from our data that only contains rows with weight values > 0 (i.e., select meaningful weight values):"
   ]
  },
  {
   "cell_type": "code",
   "execution_count": null,
   "id": "ecd8b007",
   "metadata": {},
   "outputs": [],
   "source": [
    "# How many rows have weight values?\n"
   ]
  },
  {
   "cell_type": "code",
   "execution_count": null,
   "id": "7984f075",
   "metadata": {},
   "outputs": [],
   "source": [
    "# How many rows have null values?\n"
   ]
  },
  {
   "cell_type": "markdown",
   "id": "341d0800",
   "metadata": {},
   "source": [
    "We can replace all `NaN` values with zeroes using the `.fillna()` method (after making a copy of the data so we don’t lose our work):"
   ]
  },
  {
   "cell_type": "code",
   "execution_count": null,
   "id": "03d47c86",
   "metadata": {},
   "outputs": [],
   "source": [
    "# Make a copy! Be sure to assign a new variable using the \".copy()\" method!\n",
    "\n",
    "# Now fill all NaN values with 0\n"
   ]
  },
  {
   "cell_type": "markdown",
   "id": "2a6e3ff2",
   "metadata": {},
   "source": [
    "However `NaN` and 0 yield different analysis results. The mean value when `NaN` values are replaced with 0 is different from when `NaN` values are simply thrown out or ignored."
   ]
  },
  {
   "cell_type": "code",
   "execution_count": null,
   "id": "eb225e23",
   "metadata": {},
   "outputs": [],
   "source": [
    "# Check the mean of df1\n"
   ]
  },
  {
   "cell_type": "markdown",
   "id": "d641704b",
   "metadata": {},
   "source": [
    "We can fill `NaN` values with any value that we chose. The code below fills all `NaN` values with a mean for all weight values."
   ]
  },
  {
   "cell_type": "code",
   "execution_count": null,
   "id": "65ca4aaa",
   "metadata": {},
   "outputs": [],
   "source": [
    "df1['weight'] = surveys_df['weight'].fillna(surveys_df['weight'].mean())\n"
   ]
  },
  {
   "cell_type": "markdown",
   "id": "5a1daf80",
   "metadata": {},
   "source": [
    "We could also chose to create a subset of our data, only keeping rows that do not contain NaN values.\n",
    "\n",
    "The point is to **make conscious decisions about how to manage missing data**. This is where we think about how our data will be used and how these values will impact the scientific conclusions made from the data.\n",
    "\n",
    "Python gives us all of the tools that we need to account for these issues. We just need to be cautious about how the decisions that we make impact scientific results."
   ]
  },
  {
   "cell_type": "markdown",
   "id": "49613333",
   "metadata": {},
   "source": [
    "### ✏️ Challenge - Counting\n",
    "Count the number of missing values per column of the original dataframe `surveys_df`\n",
    "\n",
    "Hints:  \n",
    "As with almost everything programming, there are multiple ways to do this.  \n",
    "  Try the method `.count()`, which gives you the number of non-NA observations per column (we need the NA observations per column).  \n",
    "  \n",
    "You could also try using the `.isnull()` or `.isna()` methods too."
   ]
  },
  {
   "cell_type": "code",
   "execution_count": null,
   "id": "5982534f",
   "metadata": {},
   "outputs": [],
   "source": []
  },
  {
   "cell_type": "code",
   "execution_count": null,
   "id": "9766e099",
   "metadata": {},
   "outputs": [],
   "source": []
  },
  {
   "cell_type": "code",
   "execution_count": null,
   "id": "2215a49d",
   "metadata": {},
   "outputs": [],
   "source": []
  },
  {
   "cell_type": "code",
   "execution_count": null,
   "id": "f8ad2952",
   "metadata": {},
   "outputs": [],
   "source": []
  },
  {
   "cell_type": "markdown",
   "id": "a56f98cb",
   "metadata": {},
   "source": [
    "# Writing Out Data to CSV\n",
    "We’ve learned about using manipulating data to get desired outputs. But we’ve also discussed keeping data that has been manipulated separate from our raw data. Something we might be interested in doing is working with only the columns that have full data. First, let’s reload the data so we’re not mixing up all of our previous manipulations.  \n",
    "We do this with:  \n",
    "`pd.read_csv(\"file location\")`"
   ]
  },
  {
   "cell_type": "code",
   "execution_count": null,
   "id": "aa68bc3d",
   "metadata": {},
   "outputs": [],
   "source": [
    "# Read the data in again and store it in memory\n"
   ]
  },
  {
   "cell_type": "markdown",
   "id": "f490e706",
   "metadata": {},
   "source": [
    "Next, let’s drop all the rows that contain missing values. We will use the method `dropna()`. By default, `dropna()` removes rows that contain missing data for even just one column."
   ]
  },
  {
   "cell_type": "code",
   "execution_count": null,
   "id": "0f96be5f",
   "metadata": {},
   "outputs": [],
   "source": [
    "# Create the new dataframe \n"
   ]
  },
  {
   "cell_type": "markdown",
   "id": "1bb2d882",
   "metadata": {},
   "source": [
    "If you now type `df_na`, you should observe that the resulting DataFrame has 30676 rows and 9 columns, much smaller than the 35549 row original."
   ]
  },
  {
   "cell_type": "code",
   "execution_count": null,
   "id": "c254b501",
   "metadata": {},
   "outputs": [],
   "source": []
  },
  {
   "cell_type": "markdown",
   "id": "a0a94588",
   "metadata": {},
   "source": [
    "We can now use the `to_csv()` method to export a DataFrame in CSV format. Note that the code below will by default save the data into the current working directory. We can save it to a different folder by adding the foldername and a slash before the filename: `df.to_csv('foldername/out.csv')`. We use `index=False` so that pandas doesn’t include the index number for each line."
   ]
  },
  {
   "cell_type": "code",
   "execution_count": null,
   "id": "14f17951",
   "metadata": {},
   "outputs": [],
   "source": [
    "# Write DataFrame to CSV file '../data_output/surveys_complete.csv'\n"
   ]
  },
  {
   "cell_type": "markdown",
   "id": "10be8c87",
   "metadata": {},
   "source": [
    "We will use this data file later in the workshop. Check out your working directory to make sure the CSV wrote out properly, and that you can open it! If you want, try to bring it back into Python to make sure it imports properly."
   ]
  },
  {
   "cell_type": "markdown",
   "id": "f7023ecd",
   "metadata": {},
   "source": [
    "---\n",
    "# Recap\n",
    "What we’ve learned:\n",
    "- How to explore the data types of columns within a DataFrame\n",
    "- How to change the data type\n",
    "- What NaN values are, how they might be represented, and what this means for your work\n",
    "- How to replace NaN values, if desired\n",
    "- How to use to_csv to write manipulated data to a file.\n"
   ]
  },
  {
   "cell_type": "markdown",
   "id": "a8bcc314",
   "metadata": {},
   "source": [
    "# ❗Key Points\n",
    "\n",
    "\n",
    "- Pandas uses other names for data types than Python, for example: object for textual data.\n",
    "- A column in a DataFrame can only have one data type.\n",
    "- The data type in a DataFrame’s single column can be checked using dtype.\n",
    "- Make conscious decisions about how to manage missing data.\n",
    "- A DataFrame can be saved to a CSV file using the to_csv function.\n"
   ]
  }
 ],
 "metadata": {
  "kernelspec": {
   "display_name": "Python 3 (ipykernel)",
   "language": "python",
   "name": "python3"
  },
  "language_info": {
   "codemirror_mode": {
    "name": "ipython",
    "version": 3
   },
   "file_extension": ".py",
   "mimetype": "text/x-python",
   "name": "python",
   "nbconvert_exporter": "python",
   "pygments_lexer": "ipython3",
   "version": "3.10.10"
  }
 },
 "nbformat": 4,
 "nbformat_minor": 5
}
