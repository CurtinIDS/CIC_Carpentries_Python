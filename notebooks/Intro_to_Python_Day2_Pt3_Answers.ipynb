{
 "cells": [
  {
   "cell_type": "markdown",
   "id": "9f9b762f",
   "metadata": {},
   "source": [
    "# Data Workflows and Automation\n",
    "This lesson is adapted from the Data Carpentries [Data Analysis and Visualization in Python for Ecologists](https://datacarpentry.org/python-ecology-lesson/index.html) lesson.\n",
    "\n",
    "---\n",
    "## How to use a Jupyter Notebook\n",
    "Online Resources:\n",
    "- https://jupyter-notebook-beginner-guide.readthedocs.io/en/latest/index.html\n",
    "- https://www.packtpub.com/books/content/getting-started-jupyter-notebook-part-1\n",
    "\n",
    "Useful Tips:\n",
    "- The notebook autosaves\n",
    "- You run a cell with **shift + enter** or using the run button in the tool bar\n",
    "- If you run a cell with **option + enter** it will also create a new cell below\n",
    "- See *Help > Keyboard Shortcuts* or the *Cheatsheet* for more info\n",
    "- The notebook has different type of cells (Code and Markdown are most commonly used): \n",
    "    - **Code** cells expect code for the Kernel you have chosen, syntax highlighting is available, comments in the code are specified with # -> code after this will not be executed\n",
    "    - **Markdown** cells allow you to right report style text, using markdown for formatting the style (e.g. Headers, bold face etc)\n",
    "---\n",
    "\n",
    "## ❓Questions and Objectives for this Notebook\n",
    "What should you be able to answer by the end of this notebook?\n",
    "\n",
    "### Questions\n",
    "\n",
    " - Can I automate operations in Python?\n",
    "\n",
    " - What are functions and why should I use them?\n",
    "\n",
    "### Objectives\n",
    "\n",
    "- Describe why for loops are used in Python.\n",
    "- Employ for loops to automate data analysis.\n",
    "- Write unique filenames in Python.\n",
    "- Build reusable code in Python.\n",
    "- Write functions using conditional statements (if, then, else).\n",
    "\n"
   ]
  },
  {
   "cell_type": "markdown",
   "id": "a93f92fe",
   "metadata": {},
   "source": [
    "## Intro\n",
    "So far, we’ve used Python and the pandas library to explore and manipulate individual datasets by hand, much like we would do in a spreadsheet. The beauty of using a programming language like Python, though, comes from the ability to automate data processing through the use of loops and functions."
   ]
  },
  {
   "cell_type": "markdown",
   "id": "a9138a8f",
   "metadata": {},
   "source": [
    "--- \n",
    "# For loops\n",
    "Loops allow us to repeat a workflow (or series of actions) a given number of times or while some condition is true. We would use a loop to automatically process data that’s stored in multiple files (daily values with one file per year, for example). Loops lighten our work load by performing repeated tasks without our direct involvement and make it less likely that we’ll introduce errors by making mistakes while processing each file by hand.\n",
    "\n",
    "Let’s write a simple for loop that simulates what a kid might see during a visit to the zoo:"
   ]
  },
  {
   "cell_type": "code",
   "execution_count": null,
   "id": "65167042",
   "metadata": {
    "scrolled": true
   },
   "outputs": [],
   "source": [
    "# Make a list of animals (where the animals are strings)\n",
    "animals = ['sheep', 'cow', 'dog', 'giraffe', 'duck']\n",
    "#Print them\n",
    "print(animals)\n",
    "b = 5+5\n",
    "b"
   ]
  },
  {
   "cell_type": "code",
   "execution_count": null,
   "id": "898f7145",
   "metadata": {
    "scrolled": true
   },
   "outputs": [],
   "source": [
    "# Now use a for loop to print them!\n",
    "for creature in animals:\n",
    "    print(creature)"
   ]
  },
  {
   "cell_type": "markdown",
   "id": "51fd7a09",
   "metadata": {},
   "source": [
    "The line defining the loop must start with `for` and end with a **colon**, and the body of the loop must be **indented**.\n",
    "\n",
    "In this example, `creature` is the loop variable that takes the value of the next entry in `animals` every time the loop goes around. We can call the loop variable anything we like. After the loop finishes, the loop variable will still exist and will have the value of the last entry in the collection:\n",
    "\n"
   ]
  },
  {
   "cell_type": "code",
   "execution_count": null,
   "id": "5935f053",
   "metadata": {},
   "outputs": [],
   "source": [
    "# Do the same loop as above, but now pass\n",
    "for creatre in animals:\n",
    "    pass"
   ]
  },
  {
   "cell_type": "code",
   "execution_count": null,
   "id": "3ca33d1f",
   "metadata": {},
   "outputs": [],
   "source": [
    "# print out what the loop variable is outside of the loop now!\n",
    "creature"
   ]
  },
  {
   "cell_type": "markdown",
   "id": "7acaf5ee",
   "metadata": {},
   "source": [
    "We are not asking Python to print the value of the loop variable anymore, but the for loop still runs and the value of creature changes on each pass through the loop. The statement pass in the body of the loop means “do nothing”.\n",
    "\n",
    "## ✏️ Challenge - Loops\n",
    "1. What happens if we don’t include the pass statement in the loop we just wrote?\n",
    "\n",
    "2. Rewrite the loop so that the animals are separated by commas, not new lines (Hint: You can concatenate strings using a plus sign. For example, print(string1 + string2) outputs ‘string1string2’). You may need to create a new variable!\n"
   ]
  },
  {
   "cell_type": "code",
   "execution_count": null,
   "id": "c9a223cf",
   "metadata": {},
   "outputs": [],
   "source": [
    "# Question 1 (should give an error)\n",
    "for animal in animals:\n",
    "    "
   ]
  },
  {
   "cell_type": "code",
   "execution_count": null,
   "id": "eda9dfcf",
   "metadata": {},
   "outputs": [],
   "source": [
    "# Why does the above give an error?"
   ]
  },
  {
   "cell_type": "code",
   "execution_count": null,
   "id": "0b3bb0fd",
   "metadata": {},
   "outputs": [],
   "source": [
    "'cat' + 'dog'"
   ]
  },
  {
   "cell_type": "code",
   "execution_count": null,
   "id": "3a605851",
   "metadata": {},
   "outputs": [],
   "source": [
    "# Question 2\n",
    "output_str = ''\n",
    "for animal in animals:\n",
    "    output_str = output_str + animal + ', '\n",
    "print(output_str)"
   ]
  },
  {
   "cell_type": "code",
   "execution_count": null,
   "id": "b138e0bd",
   "metadata": {},
   "outputs": [],
   "source": []
  },
  {
   "cell_type": "code",
   "execution_count": null,
   "id": "2cf9c95c",
   "metadata": {},
   "outputs": [],
   "source": []
  },
  {
   "cell_type": "markdown",
   "id": "d7290cbf",
   "metadata": {},
   "source": [
    "# Automating data processing using For Loops\n",
    "The file we’ve been using so far, `surveys.csv`, contains 25 years of data and is very large. We would like to separate the data for each year into a separate file.\n",
    "\n",
    "Let’s start by making a new directory inside the folder `data` to store all of these files using the module os:"
   ]
  },
  {
   "cell_type": "code",
   "execution_count": null,
   "id": "519f9714",
   "metadata": {},
   "outputs": [],
   "source": [
    "# Import the os module\n",
    "import os\n",
    "# Make a directory '../data/yearly_files'\n",
    "os.mkdir('../data/yearly_files')\n"
   ]
  },
  {
   "cell_type": "markdown",
   "id": "0a4e5bc1",
   "metadata": {},
   "source": [
    "The command `os.mkdir` is equivalent to `mkdir` in the shell (linux/mac). Just so we are sure, we can check that the new directory was created within the data folder:"
   ]
  },
  {
   "cell_type": "code",
   "execution_count": null,
   "id": "98fd414b",
   "metadata": {},
   "outputs": [],
   "source": [
    "# Use os.listdir()\n",
    "os.listdir('../data')"
   ]
  },
  {
   "cell_type": "markdown",
   "id": "2edd989b",
   "metadata": {},
   "source": [
    "The command `os.listdir` is equivalent to `ls` in the shell.\n",
    "\n",
    "In previous lessons, we saw how to use the library pandas to load the species data into memory as a DataFrame, how to select a subset of the data using some criteria, and how to write the DataFrame into a CSV file. Let’s write a script that performs those three steps in sequence for the year 2002:"
   ]
  },
  {
   "cell_type": "code",
   "execution_count": null,
   "id": "f677f80e",
   "metadata": {},
   "outputs": [],
   "source": [
    "# Import pandas\n",
    "import pandas as pd\n",
    "# load the dataframe\n",
    "surveys_df = pd.read_csv('../data/surveys.csv')\n",
    "# select only data for the year 2002\n",
    "surveys2002 = surveys_df[surveys_df.year == 2002]\n",
    "# Write the new dataframe to a CSV file\n",
    "surveys2002.to_csv('../data/yearly_files/surveys2002.csv')"
   ]
  },
  {
   "cell_type": "code",
   "execution_count": null,
   "id": "69d53618",
   "metadata": {},
   "outputs": [],
   "source": [
    "surveys_df = pd.read_csv('../data/surveys.csv')\n",
    "# select only data for the year 2002\n",
    "year = 2002\n",
    "surveys2002 = surveys_df[surveys_df.year == year]\n",
    "# Write the new dataframe to a CSV file\n",
    "surveys2002.to_csv('../data/yearly_files/surveys' + str(year) + '.csv')"
   ]
  },
  {
   "cell_type": "code",
   "execution_count": null,
   "id": "a7c2d00a",
   "metadata": {},
   "outputs": [],
   "source": [
    "surveys_df"
   ]
  },
  {
   "cell_type": "markdown",
   "id": "e87ce6f9",
   "metadata": {},
   "source": [
    "To create yearly data files, we could repeat the last two commands over and over, once for each year of data. Repeating code is neither elegant nor practical, and is very likely to introduce errors into your code. We want to turn what we’ve just written into a loop that repeats the last two commands for every year in the dataset.\n",
    "\n",
    "Let’s start by writing a loop that prints the names of the files we want to create - the dataset we are using covers 1977 through 2002, and we’ll create a separate file for each of those years. Listing the filenames is a good way to confirm that the loop is behaving as we expect.\n",
    "\n",
    "We have seen that we can loop over a list of items, so we need a list of years to loop over. We can get the years in our DataFrame with:"
   ]
  },
  {
   "cell_type": "code",
   "execution_count": null,
   "id": "f336aac8",
   "metadata": {},
   "outputs": [],
   "source": [
    "surveys_df['year']"
   ]
  },
  {
   "cell_type": "markdown",
   "id": "ba8e8482",
   "metadata": {},
   "source": [
    "but we want only unique years, which we can get using the `unique` method which we have already seen."
   ]
  },
  {
   "cell_type": "code",
   "execution_count": null,
   "id": "a89ddef0",
   "metadata": {},
   "outputs": [],
   "source": [
    "# Get a list of each unique year in the data!\n",
    "surveys_df['year'].unique()"
   ]
  },
  {
   "cell_type": "code",
   "execution_count": null,
   "id": "621930c2",
   "metadata": {},
   "outputs": [],
   "source": [
    "len(surveys_df['year'].unique())"
   ]
  },
  {
   "cell_type": "markdown",
   "id": "89cb3dca",
   "metadata": {},
   "source": [
    "\n",
    "\n",
    "Putting this into our for loop we get"
   ]
  },
  {
   "cell_type": "code",
   "execution_count": null,
   "id": "4d11b566",
   "metadata": {},
   "outputs": [],
   "source": [
    "# Write a loop\n",
    "for year in surveys_df['year'].unique():\n",
    "    filename = '../data/yearly_files/surveys' + str(year) + '.csv'\n",
    "    print(filename)"
   ]
  },
  {
   "cell_type": "markdown",
   "id": "9f90d76d",
   "metadata": {},
   "source": [
    "We can now add the rest of the steps we need to create separate text files:"
   ]
  },
  {
   "cell_type": "code",
   "execution_count": null,
   "id": "78db6a4b",
   "metadata": {},
   "outputs": [],
   "source": [
    "# Load the data into a DataFrame again (the '..data/surveys.csv' file )\n",
    "surveys_df = pd.read_csv('../data/surveys.csv')\n",
    "# Now loop over the unique years, \n",
    "for year in surveys_df['year'].unique():\n",
    "    surveys_year = surveys_df[surveys_df['year'] == year]\n",
    "    filename = '../data/yearly_files/surveys' + str(year) + '.csv'\n",
    "    surveys_year.to_csv(filename)\n",
    "# and for every year, write out the results"
   ]
  },
  {
   "cell_type": "markdown",
   "id": "d34c281c",
   "metadata": {},
   "source": [
    "Look inside the `yearly_files` directory and check a couple of the files you just created to confirm that everything worked as expected."
   ]
  },
  {
   "cell_type": "markdown",
   "id": "329e9a82",
   "metadata": {},
   "source": [
    "---\n",
    "# Writing Unique File Names\n",
    "Notice that the code above created a unique filename for each year.\n",
    "```\n",
    "filename = '../data/yearly_files/surveys' + str(year) + '.csv'\n",
    "```\n",
    "Let’s break down the parts of this name:\n",
    "\n",
    "- The first part is some text that specifies the directory to store our data file in (data/yearly_files/) and the first part of the file name (surveys): 'data/yearly_files/surveys'\n",
    " - We can concatenate this with the value of a variable, in this case year by using the plus + sign and the variable we want to add to the file name: + str(year)\n",
    " - Then we add the file extension as another text string: + '.csv'\n",
    "\n",
    "Notice that we use single quotes to add text strings. The variable is not surrounded by quotes. This code produces the string `../data/yearly_files/surveys2002.csv` which contains the path to the new filename AND the file name itself."
   ]
  },
  {
   "cell_type": "markdown",
   "id": "c9c6a0af",
   "metadata": {},
   "source": [
    "# ✏️ Challenge: Modifying loops\n",
    "\n",
    "\n",
    "1. Some of the surveys you saved are missing data (they have null values that show up as NaN - Not A Number - in the DataFrames and do not show up in the text files). Modify the for loop so that the entries with null values are not included in the yearly files.\n",
    "\n",
    "2. Let’s say you only want to look at data from a given multiple of years. How would you modify your loop in order to generate a data file for only every 5th year, starting from 1977?\n",
    "\n",
    "3. Instead of splitting out the data by years, a colleague wants to do analyses each species separately. How would you write a unique CSV file for each species?\n"
   ]
  },
  {
   "cell_type": "code",
   "execution_count": null,
   "id": "d522bc94",
   "metadata": {},
   "outputs": [],
   "source": [
    "# Modify this loop to remove NA values!\n",
    "# Load the data into a DataFrame again (the '..data/surveys.csv' file )\n",
    "surveys_df = pd.read_csv('../data/surveys.csv')\n",
    "# Now loop over the unique years, \n",
    "for year in surveys_df['year'].unique():\n",
    "    surveys_year = surveys_df[surveys_df['year'] == year]\n",
    "    surveys_year = surveys_year.dropna()\n",
    "    filename = '../data/yearly_files/surveys' + str(year) + '.csv'\n",
    "    surveys_year.to_csv(filename)"
   ]
  },
  {
   "cell_type": "code",
   "execution_count": null,
   "id": "598ccd3e",
   "metadata": {},
   "outputs": [],
   "source": [
    "#Q2 \n",
    "# Let’s say you only want to look at data from a given multiple of years. \n",
    "# How would you modify your loop in order to generate a data file for \n",
    "# only every 5th year, starting from 1977?\n",
    "\n",
    "# You could just make a list manually, \n",
    "# however, why not check the first and last year making use of the code itself?\n",
    "year_step = 5  # better overview by making variable from it\n",
    "first_year = 1977\n",
    "last_year = surveys_df['year'].max()\n",
    "\n",
    "for year in range(first_year, last_year, year_step):\n",
    "    # Select data for the year\n",
    "    surveys_year = surveys_df[surveys_df['year'] == year]\n",
    "    surveys_year = surveys_year.dropna()\n",
    "    filename = '../data/surveys' + str(year) + '.csv'\n",
    "    surveys_year.to_csv(filename)\n",
    "    print(year)\n",
    "\n",
    "\n"
   ]
  },
  {
   "cell_type": "code",
   "execution_count": null,
   "id": "2cf0a2c3",
   "metadata": {},
   "outputs": [],
   "source": [
    "#Q2 \n",
    "\n",
    "for species in surveys_df['species_id'].unique():\n",
    "    print(species)\n",
    "    surveys_species = surveys_df[surveys_df.species_id == species].dropna()\n",
    "    # Select data for the year\n",
    "    filename = '../data/surveys' + str(species) + '.csv' # NB: You may want to create a LUT for the actual name\n",
    "    surveys_species = surveys_df[surveys_df.year == year]\n",
    "    surveys_species.to_csv(filename)\n",
    "\n"
   ]
  },
  {
   "cell_type": "markdown",
   "id": "806c6e5f",
   "metadata": {},
   "source": [
    "# Building reusable and modular code with functions\n",
    "Suppose that separating large data files into individual yearly files is a task that we frequently have to perform. We could write a for loop like the one above every time we needed to do it but that would be time consuming and error prone. A more elegant solution would be to create a reusable tool that performs this task with minimum input from the user. To do this, we are going to turn the code we’ve already written into a function.\n",
    "\n",
    "Functions are reusable, self-contained pieces of code that are called with a single command. They can be designed to accept arguments as input and return values, but they don’t need to do either. Variables declared inside functions only exist while the function is running and if a variable within the function (a local variable) has the same name as a variable somewhere else in the code, the local variable hides but doesn’t overwrite the other.\n",
    "\n",
    "Every method used in Python (for example, print) is a function, and the libraries we import (say, pandas) are a collection of functions. We will only use functions that are housed within the same code that uses them, but we can also write functions that can be used by different programs.\n",
    "\n",
    "Functions are declared following this general structure:"
   ]
  },
  {
   "cell_type": "code",
   "execution_count": null,
   "id": "9e8839f1",
   "metadata": {},
   "outputs": [],
   "source": [
    "# Make a function to multiply two things\n",
    "# Dont forget to write  a doc string!\n",
    "def this_is_the_function_name(input_argument1, input_argument2):\n",
    "    \"\"\" This function multiplies two arguments together, and outputs the result \"\"\"\n",
    "    # The body of the function is indented\n",
    "    # This function prints the two arguments to screen\n",
    "    print('The function arguments are:', input_argument1, input_argument2, '(this is done inside the function!)')\n",
    "\n",
    "    # And returns their product\n",
    "    return input_argument1 * input_argument2\n"
   ]
  },
  {
   "cell_type": "markdown",
   "id": "6966df12",
   "metadata": {},
   "source": [
    "The function declaration starts with the word def, followed by the function name and any arguments in parenthesis, and ends in a colon. The body of the function is indented just like loops are. If the function returns something when it is called, it includes a return statement at the end.\n",
    "\n",
    "This is how we call the function:"
   ]
  },
  {
   "cell_type": "code",
   "execution_count": null,
   "id": "50342025",
   "metadata": {},
   "outputs": [],
   "source": [
    "# Call the function with parameters 2,3\n",
    "product_of_inputs = this_is_the_function_name(2, 5)"
   ]
  },
  {
   "cell_type": "code",
   "execution_count": null,
   "id": "eabcefe3",
   "metadata": {},
   "outputs": [],
   "source": [
    "print('Their product is:', product_of_inputs, '(this is done outside the function!)')"
   ]
  },
  {
   "cell_type": "markdown",
   "id": "295d95ee",
   "metadata": {},
   "source": [
    "## ✏️ Challenge - Functions\n",
    "\n",
    "- Change the values of the arguments in the function and check its output\n",
    "- Try calling the function by giving it the wrong number of arguments (not 2) or not assigning the function call to a variable (no product_of_inputs =)\n",
    "- Declare a variable inside the function and test to see where it exists (Hint: can you print it from outside the function?)\n",
    "- Explore what happens when a variable both inside and outside the function have the same name. What happens to the global variable when you change the value of the local variable?\n"
   ]
  },
  {
   "cell_type": "code",
   "execution_count": null,
   "id": "f15c66c7",
   "metadata": {},
   "outputs": [],
   "source": [
    "# Exploration challenge. Do the above yourself!"
   ]
  },
  {
   "cell_type": "code",
   "execution_count": null,
   "id": "47157ecd",
   "metadata": {},
   "outputs": [],
   "source": []
  },
  {
   "cell_type": "code",
   "execution_count": null,
   "id": "77435295",
   "metadata": {},
   "outputs": [],
   "source": []
  },
  {
   "cell_type": "code",
   "execution_count": null,
   "id": "957478da",
   "metadata": {},
   "outputs": [],
   "source": []
  },
  {
   "cell_type": "code",
   "execution_count": null,
   "id": "e06bf45f",
   "metadata": {},
   "outputs": [],
   "source": []
  },
  {
   "cell_type": "markdown",
   "id": "356b1c1e",
   "metadata": {},
   "source": [
    "-------------"
   ]
  },
  {
   "cell_type": "markdown",
   "id": "281798fe",
   "metadata": {},
   "source": [
    "We can now turn our code for saving yearly data files into a function. There are many different “chunks” of this code that we can turn into functions, and we can even create functions that call other functions inside them. Let’s first write a function that separates data for just one year and saves that data to a file:"
   ]
  },
  {
   "cell_type": "code",
   "execution_count": null,
   "id": "b29474f4",
   "metadata": {},
   "outputs": [],
   "source": [
    "# write a function called \"one_year_csv_writer\"\n",
    "# It should take in a parameter \"this_year\" and \"all_data\"\n",
    "# It should write to an appropriate file in \n",
    "# '../data/yearly_files/' directory\n",
    "\n",
    "\n",
    "# Note the doc string\n",
    "def one_year_csv_writer(this_year, all_data):\n",
    "    \"\"\"\n",
    "    Writes a csv file for data from a given year.\n",
    "\n",
    "    this_year -- year for which data is extracted\n",
    "    all_data -- DataFrame with multi-year data\n",
    "    \"\"\"\n",
    "\n",
    "    # Select data for the year\n",
    "    surveys_year = all_data[all_data.year == this_year]\n",
    "\n",
    "    # Write the new DataFrame to a csv file\n",
    "    filename = '../data/yearly_files/function_surveys' + str(this_year) + '.csv'\n",
    "    surveys_year.to_csv(filename)\n",
    "\n"
   ]
  },
  {
   "cell_type": "markdown",
   "id": "7864644e",
   "metadata": {},
   "source": [
    "The text between the two sets of triple double quotes is called a docstring and contains the documentation for the function. It does nothing when the function is running and is therefore not necessary, but it is good practice to include docstrings as a reminder of what the code does. Docstrings in functions also become part of their ‘official’ documentation:"
   ]
  },
  {
   "cell_type": "code",
   "execution_count": null,
   "id": "2a16812d",
   "metadata": {},
   "outputs": [],
   "source": [
    "one_year_csv_writer?"
   ]
  },
  {
   "cell_type": "code",
   "execution_count": null,
   "id": "a0761d8d",
   "metadata": {},
   "outputs": [],
   "source": [
    "help(one_year_csv_writer)"
   ]
  },
  {
   "cell_type": "markdown",
   "id": "7491a0db",
   "metadata": {},
   "source": [
    "We changed the root of the name of the CSV file so we can distinguish it from the one we wrote before. Check the yearly_files directory for the file. Did it do what you expect?\n",
    "\n",
    "What we really want to do, though, is create files for multiple years without having to request them one by one. Let’s write another function that replaces the entire for loop by looping through a sequence of years and repeatedly calling the function we just wrote, one_year_csv_writer:"
   ]
  },
  {
   "cell_type": "code",
   "execution_count": null,
   "id": "26b76bcc",
   "metadata": {},
   "outputs": [],
   "source": [
    "def yearly_data_csv_writer(start_year, end_year, all_data):\n",
    "    \"\"\"\n",
    "    Writes separate CSV files for each year of data.\n",
    "\n",
    "    start_year -- the first year of data we want\n",
    "    end_year -- the last year of data we want\n",
    "    all_data -- DataFrame with multi-year data\n",
    "    \"\"\"\n",
    "\n",
    "    # \"end_year\" is the last year of data we want to pull, so we loop to end_year+1\n",
    "    for year in range(start_year, end_year+1):\n",
    "        one_year_csv_writer(year, all_data)\n"
   ]
  },
  {
   "cell_type": "markdown",
   "id": "94a4dcaa",
   "metadata": {},
   "source": [
    "Because people will naturally expect that the end year for the files is the last year with data, the for loop inside the function ends at end_year + 1. By writing the entire loop into a function, we’ve made a reusable tool for whenever we need to break a large data file into yearly files. Because we can specify the first and last year for which we want files, we can even use this function to create files for a subset of the years available. This is how we call this function:\""
   ]
  },
  {
   "cell_type": "code",
   "execution_count": null,
   "id": "8c7cff36",
   "metadata": {},
   "outputs": [],
   "source": [
    "# Load the data into a DataFrame\n",
    "surveys_df = pd.read_csv('../data/surveys.csv')\n",
    "\n",
    "# Create CSV files\n",
    "one_year_csv_writer(2002, surveys_df)\n"
   ]
  },
  {
   "cell_type": "markdown",
   "id": "5a778cea",
   "metadata": {},
   "source": [
    "# BEWARE! \n",
    "**If you are using Jupyter Notebooks and you modify a function, you <u>MUST</u> re-run that cell in order for the changed function to be available to the rest of the code. Nothing will visibly happen when you do this, though, because defining a function without calling it doesn’t produce an output. Any cells that use the now-changed functions will also have to be re-run for their output to change.**"
   ]
  },
  {
   "cell_type": "markdown",
   "id": "5fabb9ad",
   "metadata": {},
   "source": [
    "## ✏️ Challenge - Functions\n",
    "1. Add two arguments to the functions we wrote that take the path of the directory where the files will be written and the root of the file name. Create a new set of files with a different name in a different directory.\n",
    "2. How could you use the function `yearly_data_csv_writer` to create a CSV file for only one year? (Hint: think about the syntax for `range`)\n",
    "3. Make the functions return a list of the files they have written. There are many ways you can do this (and you should try them all!): either of the functions can print to screen, either can use a return statement to give back numbers or strings to their function call, or you can use some combination of the two. You could also try using the os library to list the contents of directories.\n",
    "4. Explore what happens when variables are declared inside each of the functions versus in the main (non-indented) body of your code. What is the scope of the variables (where are they visible)? What happens when they have the same name but are given different values?\n"
   ]
  },
  {
   "cell_type": "code",
   "execution_count": null,
   "id": "671b76ea",
   "metadata": {},
   "outputs": [],
   "source": [
    "import os\n",
    "def one_year_csv_writer(this_year, all_data, folder_to_save, root_name):\n",
    "    \"\"\"\n",
    "    Writes a csv file for data from a given year.\n",
    "\n",
    "    Parameters\n",
    "    ---------\n",
    "    this_year : int\n",
    "        year for which data is extracted\n",
    "    all_data: pd.DataFrame\n",
    "        DataFrame with multi-year data\n",
    "    folder_to_save : str\n",
    "        folder to save the data files\n",
    "    root_name: str\n",
    "        root of the filenames to save the data\n",
    "    \"\"\"\n",
    "\n",
    "    # Select data for the year\n",
    "    surveys_year = all_data[all_data.year == this_year]\n",
    "\n",
    "    # Write the new DataFrame to a csv file\n",
    "    filename = os.path.join(folder_to_save, ''.join([root_name, str(this_year), '.csv']))\n",
    "    surveys_year.to_csv(filename)\n",
    "    \n",
    "    \n",
    "def yearly_data_csv_writer(start_year, end_year, all_data, folder_to_save, root_name):\n",
    "    \"\"\"\n",
    "    Writes separate CSV files for each year of data.\n",
    "\n",
    "    start_year -- the first year of data we want\n",
    "    end_year -- the last year of data we want\n",
    "    all_data -- DataFrame with multi-year data\n",
    "    \"\"\"\n",
    "\n",
    "    # \"end_year\" is the last year of data we want to pull, so we loop to end_year+1\n",
    "    for year in range(start_year, end_year+1):\n",
    "        one_year_csv_writer(year, all_data, folder_to_save, root_name)\n"
   ]
  },
  {
   "cell_type": "code",
   "execution_count": null,
   "id": "7f00d895",
   "metadata": {},
   "outputs": [],
   "source": [
    "# Use the existing function yearly_dat_csv_writer\n",
    "\n",
    "yearly_data_csv_writer(2002, 2002, surveys_df, '../', 'data')"
   ]
  },
  {
   "cell_type": "code",
   "execution_count": null,
   "id": "91594a2b",
   "metadata": {},
   "outputs": [],
   "source": [
    "# Q3 \n",
    "# Adapt the functions to print out filename either inside or outside the loops"
   ]
  },
  {
   "cell_type": "code",
   "execution_count": null,
   "id": "6f845040",
   "metadata": {},
   "outputs": [],
   "source": [
    "# Q4\n",
    "# Explore on your own!"
   ]
  },
  {
   "cell_type": "markdown",
   "id": "2bd37af6",
   "metadata": {},
   "source": [
    "The functions we wrote demand that we give them a value for every argument. Ideally, we would like these functions to be as flexible and independent as possible. Let’s modify the function `yearly_data_csv_writer` so that the `start_year` and `end_year` default to the full range of the data if they are not supplied by the user. Arguments can be given default values with an equal sign in the function declaration. Any arguments in the function without default values (here, `all_data`) is a required argument and MUST come before the argument with default values (which are optional in the function call)."
   ]
  },
  {
   "cell_type": "code",
   "execution_count": null,
   "id": "7ddea1b1",
   "metadata": {},
   "outputs": [],
   "source": [
    "def yearly_data_arg_test(all_data, start_year=1977, end_year=2002):\n",
    "    \"\"\"\n",
    "    Modified from yearly_data_csv_writer to test default argument values!\n",
    "\n",
    "    start_year -- the first year of data we want (default 1977)\n",
    "    end_year -- the last year of data we want (default 2002)\n",
    "    all_data -- DataFrame with multi-year data\n",
    "    \"\"\"\n",
    "\n",
    "    return start_year, end_year\n",
    "\n",
    "\n",
    "start, end = yearly_data_arg_test(surveys_df, 1988, 1993)\n",
    "print('Both optional arguments:', start, end)\n",
    "\n",
    "# Extra spaces to align the numbers\n",
    "start, end = yearly_data_arg_test(surveys_df)\n",
    "print('Default values:         ', start, end) \n"
   ]
  },
  {
   "cell_type": "code",
   "execution_count": null,
   "id": "644ca58a",
   "metadata": {},
   "outputs": [],
   "source": []
  },
  {
   "cell_type": "markdown",
   "id": "496a6c96",
   "metadata": {},
   "source": [
    "But what if our dataset doesn’t start in 1977 and end in 2002? We can modify the function so that it looks for the start and end years in the dataset if those dates are not provided:"
   ]
  },
  {
   "cell_type": "code",
   "execution_count": null,
   "id": "bfba88cb",
   "metadata": {},
   "outputs": [],
   "source": [
    "def yearly_data_arg_test(all_data, start_year=None, end_year=None):\n",
    "    \"\"\"\n",
    "    Modified from yearly_data_csv_writer to test default argument values!\n",
    "\n",
    "    all_data -- DataFrame with multi-year data\n",
    "    start_year -- the first year of data we want, Check all_data! (default None)\n",
    "    end_year -- the last year of data we want; Check all_data! (default None)\n",
    "    \"\"\"\n",
    "\n",
    "    if start_year is None:\n",
    "        start_year = min(all_data.year)\n",
    "    if end_year is None:\n",
    "        end_year = max(all_data.year)\n",
    "\n",
    "    return start_year, end_year\n",
    "\n",
    "\n",
    "start, end = yearly_data_arg_test(surveys_df, 1988, 1993)\n",
    "print('Both optional arguments:', start, end)\n",
    "\n",
    "start, end = yearly_data_arg_test(surveys_df)\n",
    "print('Default values:         ', start, end)\n"
   ]
  },
  {
   "cell_type": "code",
   "execution_count": null,
   "id": "4ef816a0",
   "metadata": {},
   "outputs": [],
   "source": []
  },
  {
   "cell_type": "markdown",
   "id": "f10f8e32",
   "metadata": {},
   "source": [
    "The default values of the start_year and end_year arguments in the function yearly_data_arg_test are now None. This is a built-in constant in Python that indicates the absence of a value - essentially, that the variable exists in the namespace of the function (the directory of variable names) but that it doesn’t correspond to any existing object."
   ]
  },
  {
   "cell_type": "code",
   "execution_count": null,
   "id": "3ec93e90",
   "metadata": {},
   "outputs": [],
   "source": []
  },
  {
   "cell_type": "code",
   "execution_count": null,
   "id": "c6b78f64",
   "metadata": {},
   "outputs": [],
   "source": []
  },
  {
   "cell_type": "markdown",
   "id": "e467e6f6",
   "metadata": {},
   "source": [
    "## ✏️ Challenge - Variables\n",
    "\n",
    "\n",
    "1. What type of object corresponds to a variable declared as None? (Hint: create a variable set to None and use the function type())\n",
    "\n",
    "2. Compare the behavior of the function yearly_data_arg_test when the arguments have None as a default and when they do not have default values.\n",
    "\n",
    "3. What happens if you only include a value for start_year in the function call? \n",
    "4. Can you write the function call with only a value for end_year? Once done, think about how the function must be assigning values to each of the arguments - this is related to the need to put the arguments without default values before those with default values in the function definition!\n"
   ]
  },
  {
   "cell_type": "code",
   "execution_count": null,
   "id": "1a220ed7",
   "metadata": {},
   "outputs": [],
   "source": [
    "# Q1\n",
    "none_var = None\n",
    "type(none_var)"
   ]
  },
  {
   "cell_type": "code",
   "execution_count": null,
   "id": "bb9c4962",
   "metadata": {},
   "outputs": [],
   "source": [
    "# Q2 try a few permutations with None in some of the args, and the actual arugments\n",
    "yearly_data_arg_test(None, None, None)"
   ]
  },
  {
   "cell_type": "code",
   "execution_count": null,
   "id": "b0ad3123",
   "metadata": {},
   "outputs": [],
   "source": [
    "yearly_data_arg_test(start_year = 2002)"
   ]
  },
  {
   "cell_type": "code",
   "execution_count": null,
   "id": "35666cc5",
   "metadata": {},
   "outputs": [],
   "source": [
    "yearly_data_arg_test(surveys_df, start_year = 2002)"
   ]
  },
  {
   "cell_type": "code",
   "execution_count": null,
   "id": "63fa3a76",
   "metadata": {},
   "outputs": [],
   "source": [
    "yearly_data_arg_test(surveys_df, end_year = 2002)"
   ]
  },
  {
   "cell_type": "code",
   "execution_count": null,
   "id": "d2e4afc6",
   "metadata": {},
   "outputs": [],
   "source": [
    "# Think about WHY the above works"
   ]
  },
  {
   "cell_type": "markdown",
   "id": "a6b5e176",
   "metadata": {},
   "source": [
    "# If Statements\n",
    "The body of the test function now has two conditionals (if statements) that check the values of `start_year` and `end_year`. If statements execute a segment of code when some condition is met. They commonly look something like this:"
   ]
  },
  {
   "cell_type": "code",
   "execution_count": null,
   "id": "abf40711",
   "metadata": {},
   "outputs": [],
   "source": [
    "a = 5\n",
    "\n",
    "if a<0:  # Meets first condition?\n",
    "\n",
    "    # if a IS less than zero\n",
    "    print('a is a negative number')\n",
    "\n",
    "elif a>0:  # Did not meet first condition. meets second condition?\n",
    "\n",
    "    # if a ISN'T less than zero and IS more than zero\n",
    "    print('a is a positive number')\n",
    "\n",
    "else:  # Met neither condition\n",
    "\n",
    "    # if a ISN'T less than zero and ISN'T more than zero\n",
    "    print('a must be zero!')\n"
   ]
  },
  {
   "cell_type": "markdown",
   "id": "85ac4820",
   "metadata": {},
   "source": [
    "Change the value of `a` to see how this function works. The statement `elif` means “else if”, and all of the conditional statements must end in a colon.\n",
    "\n",
    "The if statements in the function `yearly_data_arg_test` check whether there is an object associated with the variable names `start_year` and `end_year`. If those variables are `None`, the if statements return the boolean `True` and execute whatever is in their body. On the other hand, if the variable names are associated with some value (they got a number in the function call), the if statements return `False` and do not execute. The opposite conditional statements, which would return True if the variables were associated with objects (if they had received value in the function call), would be if `start_year` and if `end_year`.\n",
    "\n",
    "As we’ve written it so far, the function `yearly_data_arg_test` associates values in the function call with arguments in the function definition just based on their order. If the function gets only two values in the function call, the first one will be associated with `all_data` and the second with `start_year`, regardless of what we intended them to be. We can get around this problem by calling the function using keyword arguments, where each of the arguments in the function definition is associated with a keyword and the function call passes values to the function using these keywords:"
   ]
  },
  {
   "cell_type": "code",
   "execution_count": null,
   "id": "afce74ab",
   "metadata": {},
   "outputs": [],
   "source": [
    "start, end = yearly_data_arg_test(surveys_df)\n",
    "print('Default values:\\t\\t\\t', start, end)\n",
    "\n",
    "start, end = yearly_data_arg_test(surveys_df, 1988, 1993)\n",
    "print('No keywords:\\t\\t\\t', start, end)\n",
    "\n",
    "start, end = yearly_data_arg_test(surveys_df, start_year=1988, end_year=1993)\n",
    "print('Both keywords, in order:\\t', start, end)\n",
    "\n",
    "start, end = yearly_data_arg_test(surveys_df, end_year=1993, start_year=1988)\n",
    "print('Both keywords, flipped:\\t\\t', start, end)\n",
    "\n",
    "start, end = yearly_data_arg_test(surveys_df, start_year=1988)\n",
    "print('One keyword, default end:\\t', start, end)\n",
    "\n",
    "start, end = yearly_data_arg_test(surveys_df, end_year=1993)\n",
    "print('One keyword, default start:\\t', start, end)\n"
   ]
  },
  {
   "cell_type": "code",
   "execution_count": null,
   "id": "0c716b0c",
   "metadata": {},
   "outputs": [],
   "source": []
  },
  {
   "cell_type": "code",
   "execution_count": null,
   "id": "40f3d91d",
   "metadata": {},
   "outputs": [],
   "source": []
  },
  {
   "cell_type": "markdown",
   "id": "7ed9f418",
   "metadata": {},
   "source": [
    "--- \n",
    "## ✏️ 🔥Final Challenge🔥 - Modifying Functions\n",
    "This challenge is in 5 parts, try to do them all!\n",
    "1. Rewrite the one_year_csv_writer and yearly_data_csv_writer functions to have keyword arguments with default values\n",
    "\n",
    "2. Modify the functions so that they don’t create yearly files if there is no data for a given year and display an alert to the user (Hint: use conditional statements to do this. For an extra challenge, use try statements!)\n"
   ]
  },
  {
   "cell_type": "code",
   "execution_count": null,
   "id": "c12930fc",
   "metadata": {},
   "outputs": [],
   "source": [
    "def one_year_csv_writer(this_year, all_data, folder_to_save='./', root_name='survey'):\n",
    "    \"\"\"\n",
    "    Writes a csv file for data from a given year.\n",
    "\n",
    "    Parameters\n",
    "    ---------\n",
    "    this_year : int\n",
    "        year for which data is extracted\n",
    "    all_data: pd.DataFrame\n",
    "        DataFrame with multi-year data\n",
    "    folder_to_save : str\n",
    "        folder to save the data files\n",
    "    root_name: str\n",
    "        root of the filenames to save the data\n",
    "    \"\"\"\n",
    "\n",
    "    # Select data for the year\n",
    "    surveys_year = all_data[all_data.year == this_year]\n",
    "\n",
    "    # Write the new DataFrame to a csv file\n",
    "    filename = os.path.join(folder_to_save, ''.join([root_name, str(this_year), '.csv']))\n",
    "    surveys_year.to_csv(filename)\n"
   ]
  },
  {
   "cell_type": "code",
   "execution_count": null,
   "id": "ba389a92",
   "metadata": {},
   "outputs": [],
   "source": [
    "import os\n",
    "def one_year_csv_writer(this_year, all_data, folder_to_save='./', root_name='survey'):\n",
    "    \"\"\"\n",
    "    Writes a csv file for data from a given year.\n",
    "\n",
    "    Parameters\n",
    "    ---------\n",
    "    this_year : int\n",
    "        year for which data is extracted\n",
    "    all_data: pd.DataFrame\n",
    "        DataFrame with multi-year data\n",
    "    folder_to_save : str\n",
    "        folder to save the data files\n",
    "    root_name: str\n",
    "        root of the filenames to save the data\n",
    "    \"\"\"\n",
    "\n",
    "    # Select data for the year\n",
    "    surveys_year = all_data[all_data.year == this_year]\n",
    "\n",
    "    # Write the new DataFrame to a csv file\n",
    "    if len(surveys_year) > 0:\n",
    "        filename = os.path.join(folder_to_save, ''.join([root_name, str(this_year), '.csv']))\n",
    "        surveys_year.to_csv(filename)\n",
    "    else:\n",
    "        print(\"No data for year \" + str(this_year))"
   ]
  },
  {
   "cell_type": "markdown",
   "id": "02a7acb8",
   "metadata": {},
   "source": [
    "3. The code below checks to see whether a directory exists and creates one if it doesn’t. Add some code to your function that writes out the CSV files, to check for a directory to write to.\n",
    "  \n",
    "\n"
   ]
  },
  {
   "cell_type": "code",
   "execution_count": null,
   "id": "8b1463f7",
   "metadata": {},
   "outputs": [],
   "source": [
    "if 'dir_name_here' in os.listdir('.'):  \n",
    "    print('Processed directory exists')  \n",
    "else:\n",
    "    os.mkdir('dir_name_here')\n",
    "    print('Processed directory created')"
   ]
  },
  {
   "cell_type": "code",
   "execution_count": null,
   "id": "aa7405e0",
   "metadata": {},
   "outputs": [],
   "source": [
    "# Modify function above with this"
   ]
  },
  {
   "cell_type": "code",
   "execution_count": null,
   "id": "ca6fc4b6",
   "metadata": {},
   "outputs": [],
   "source": []
  },
  {
   "cell_type": "markdown",
   "id": "ca797d58",
   "metadata": {},
   "source": [
    "\n",
    "4. The code that you have written so far to loop through the years is good, however it is not necessarily reproducible with different datasets. For instance, what happens to the code if we have additional years of data in our CSV files? \n",
    "5. Using the tools that you learned in the previous activities, make a list of all years represented in the data. Then create a loop to process your data, that begins at the earliest year and ends at the latest year using that list.\n",
    "\n",
    "HINT: you can create a loop with a list as follows: \n",
    "`for years in year_list:`"
   ]
  },
  {
   "cell_type": "code",
   "execution_count": null,
   "id": "de4941a9",
   "metadata": {},
   "outputs": [],
   "source": [
    "#Q4 Find out what happens"
   ]
  },
  {
   "cell_type": "code",
   "execution_count": null,
   "id": "32ec2834",
   "metadata": {},
   "outputs": [],
   "source": []
  },
  {
   "cell_type": "code",
   "execution_count": null,
   "id": "f3bc311c",
   "metadata": {},
   "outputs": [],
   "source": [
    "# Q5\n",
    "def yearly_data_csv_writer(all_data, yearcolumn=\"year\",\n",
    "                           folder_to_save='../data', root_name='survey'):\n",
    "    \"\"\"\n",
    "    Writes separate csv files for each year of data.\n",
    "\n",
    "    all_data --- DataFrame with multi-year data\n",
    "    yearcolumn --- column name containing the year of the data\n",
    "    folder_to_save --- folder name to store files\n",
    "    root_name --- start of the file names stored\n",
    "    \"\"\"\n",
    "    years = all_data[\"year\"].unique()\n",
    "\n",
    "    # \"end_year\" is the last year of data we want to pull, so we loop to end_year+1\n",
    "    filenames = []\n",
    "    for year in years:\n",
    "        filenames.append(one_year_csv_writer(year, all_data, folder_to_save, root_name))\n",
    "    return filenames\n"
   ]
  },
  {
   "cell_type": "code",
   "execution_count": null,
   "id": "17d2c3fa",
   "metadata": {},
   "outputs": [],
   "source": []
  },
  {
   "cell_type": "markdown",
   "id": "6e11f486",
   "metadata": {},
   "source": [
    "# ❗Key Points from this notebook\n",
    "\n",
    "\n",
    "- Loops help automate repetitive tasks over sets of items.\n",
    "\n",
    "- Loops combined with functions provide a way to process data more efficiently than we could by hand.\n",
    "\n",
    "- Conditional statements enable execution of different operations on different data.\n",
    "\n",
    "- Functions enable code reuse.\n"
   ]
  },
  {
   "cell_type": "markdown",
   "id": "977cbd8f",
   "metadata": {},
   "source": [
    "# ❗Key Points from today and yesterday\n",
    "\n",
    "\n",
    "\n",
    "\n",
    "-  Python is an interpreted language which can be used interactively or in scripting mode (executing a series of commands saved in file).\n",
    "\n",
    "- One can assign a value to a variable in Python. Those variables can be of several types, such as string, integer, floating point and complex numbers.\n",
    "- Lists and tuples are similar in that they are ordered lists of elements; they differ in that a tuple is immutable (cannot be changed).\n",
    "\n",
    "- Dictionaries are data structures that provide mappings between keys and values.\n",
    "\n",
    "- Libraries enable us to extend the functionality of Python.\n",
    "\n",
    "- Pandas is a popular library for working with data.\n",
    "- A Dataframe is a Pandas data structure that allows one to access data by column (name or index) or row.\n",
    "\n",
    "- Aggregating data using the groupby() function enables you to generate useful summaries of data quickly.\n",
    "\n",
    "- Plots can be created from DataFrames or subsets of data that have been generated with groupby().\n",
    "\n",
    "- In Python, portions of data can be accessed using indices, slices, column headings, and condition-based subsetting.\n",
    "\n",
    "- Python uses 0-based indexing, in which the first element in a list, tuple or any other data structure has an index of 0.\n",
    "\n",
    "- Pandas enables common data exploration steps such as data indexing, slicing and conditional subsetting.\n",
    "\n",
    "- Pandas uses other names for data types than Python, for example: object for textual data.\n",
    "\n",
    "- A column in a DataFrame can only have one data type.\n",
    "\n",
    "- The data type in a DataFrame’s single column can be checked using dtype.\n",
    "\n",
    "- Make conscious decisions about how to manage missing data.\n",
    "\n",
    "- A DataFrame can be saved to a CSV file using the to_csv function.\n",
    "\n",
    "- Pandas’ `merge` and `concat` can be used to combine subsets of a DataFrame, or even data from different files.\n",
    "\n",
    "- `join` function combines DataFrames based on index or column.\n",
    "\n",
    "- Joining two DataFrames can be done in multiple ways (left, right, and inner) depending on what data must be in the final DataFrame.\n",
    "\n",
    "- `to_csv` can be used to write out DataFrames in CSV format.\n",
    "\n",
    "- Loops are 🔥\n",
    " \n",
    "- Functions are 💯\n"
   ]
  },
  {
   "cell_type": "code",
   "execution_count": null,
   "id": "2cfa3dbb",
   "metadata": {},
   "outputs": [],
   "source": []
  },
  {
   "cell_type": "code",
   "execution_count": null,
   "id": "4f4f43ef",
   "metadata": {},
   "outputs": [],
   "source": []
  },
  {
   "cell_type": "code",
   "execution_count": null,
   "id": "92681cc6",
   "metadata": {},
   "outputs": [],
   "source": []
  }
 ],
 "metadata": {
  "kernelspec": {
   "display_name": "Python 3 (ipykernel)",
   "language": "python",
   "name": "python3"
  },
  "language_info": {
   "codemirror_mode": {
    "name": "ipython",
    "version": 3
   },
   "file_extension": ".py",
   "mimetype": "text/x-python",
   "name": "python",
   "nbconvert_exporter": "python",
   "pygments_lexer": "ipython3",
   "version": "3.9.13"
  }
 },
 "nbformat": 4,
 "nbformat_minor": 5
}
