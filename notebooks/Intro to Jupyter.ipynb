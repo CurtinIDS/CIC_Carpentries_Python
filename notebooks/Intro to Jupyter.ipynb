{
 "cells": [
  {
   "cell_type": "markdown",
   "metadata": {},
   "source": [
    "# Introduction to Jupyter, Jupyter Notebook, and JupyterLab\n",
    "\n",
    "[Jupyter](https://jupyter.org/) is an open-source project that transforms the way we work with data and code. It provides a dynamic, interactive platform for data scientists, researchers, and educators.\n",
    "\n",
    "<div style=\"text-align:center;\">\n",
    "<img src=\"https://docs.jupyter.org/en/latest/_static/jupyter.svg\" width=\"10%\">\n",
    "</div>\n",
    "\n",
    "[Jupyter notebooks](https://jupyter-notebook-beginner-guide.readthedocs.io/en/latest/index.html) is a widely used application of Jupyter. It is an open-source web application that allows you to combine executable code with explanatory information such as markdown text, LaTex equations, images and interactive visualisations:\n",
    "\n",
    "<div style=\"text-align:center;\">\n",
    "<img src=\"https://jupyter-notebook.readthedocs.io/en/latest/_images/notebook-running-code.png\" width=\"40%\">\n",
    "</div>\n",
    "\n",
    "[JupyterLab](https://jupyterlab.readthedocs.io/en/stable/) is the next-generation web-based integrated development environment (IDE) for Jupyter. JupyterLab offers a flexible and interactive interface for assembling and running code, exploring data, and creating documents.\n",
    "\n",
    "<div style=\"text-align:center;\">\n",
    "<img src=\"https://docs.jupyter.org/en/latest/_images/jupyterlab.png\" width=\"40%\">\n",
    "</div>\n",
    "\n"
   ]
  },
  {
   "attachments": {},
   "cell_type": "markdown",
   "metadata": {},
   "source": [
    "---\n",
    "## General things to note\n",
    "- To save the notebook/file, <kbd>Ctrl</kbd> + <kbd>s</kbd> or Go to `File -> Save`.\n",
    "- You run a cell with <kbd>Shift</kbd> + <kbd>Enter</kbd> or\n",
    "    - **Jupyter Notebook, JupyterLab**: you can use the run button ▶ in the tool bar.\n",
    "    - **VScode**: you can use the run button ▶ in front of the cell.\n",
    "- If you run a cell with <kbd>Option (Alt)</kbd> + <kbd>Enter</kbd> it will also create a new cell below.\n",
    "- If you opened this a classic notebook you can check *Help > Keyboard Shortcuts* else see the *Cheatsheet* for more info.\n",
    "- If you are using VScode, See [Jupyter Notebooks in VS Code](https://code.visualstudio.com/docs/datascience/jupyter-notebooks) for more info.\n",
    "- The notebook has different type of cells (Code and Markdown are most commonly used): \n",
    "    - **Code** cells expect code for the Kernel you have chosen, syntax highlighting is available, comments in the code are specified with `#` -> code after this will not be executed.\n",
    "    - **Markdown** cells allow you to right report style text, using markdown for formatting the style (e.g. Headers, bold face etc)."
   ]
  },
  {
   "cell_type": "code",
   "execution_count": null,
   "metadata": {},
   "outputs": [],
   "source": [
    "# this is a code cell\n",
    "2+2"
   ]
  },
  {
   "cell_type": "markdown",
   "metadata": {},
   "source": [
    "- **Markdown** cells allow you to right report style text, using markdown for formatting the style (e.g. Headers, bold face etc)"
   ]
  },
  {
   "attachments": {},
   "cell_type": "markdown",
   "metadata": {},
   "source": [
    "this is a markdown cell\n",
    "\n",
    "try executing it with <kbd>Shift</kbd> + <kbd>Enter</kbd> when it is highlighted"
   ]
  },
  {
   "attachments": {},
   "cell_type": "markdown",
   "metadata": {},
   "source": [
    "## Edit and command mode\n",
    "\n",
    "As you might have realised the cell you are **editing** is highlighted by a blue bar to its left and has a blue box around it.\n",
    "\n",
    "If you press <kbd>Shift</kbd> + <kbd>Enter</kbd> on such a cell it gets executed, i.e. the code or markdown within it gets evaluated and the outputs are shown below the cell or the markdown gets rendered.\n",
    "\n",
    "In **command** mode you will only see the blue bar to the left. In this case you can use keyboard short cuts to edit the notebook as a whole, e.g. move cells up and down or change their type.\n"
   ]
  },
  {
   "attachments": {},
   "cell_type": "markdown",
   "metadata": {},
   "source": [
    "## Keyboard shortcuts\n",
    "\n",
    "The most important keyboard shortcuts are <kbd>Enter</kbd>, which enters edit mode, and `Esc`, which enters command mode. Some other useful shortcuts include:\n",
    "\n",
    "1. Basic navigation: <kbd>Enter</kbd>, <kbd>Shift</kbd> + <kbd>Enter</kbd>, <kbd>Up</kbd> (or <kbd>k</kbd>), <kbd>Down</kbd> (or <kbd>j</kbd>).\n",
    "\n",
    "2. Saving the notebook: <kbd>s</kbd>\n",
    "\n",
    "3. Cell creation: Create empty cell above <kbd>a</kbd>, Create empty cell below <kbd>b</kbd>\n",
    "\n",
    "4. Delete cell: Select cell (or press <kbd>Esc</kbd> to switch to command mode) then press <kbd>d</kbd> twice.\n",
    "\n",
    "Check out the [documentation](https://jupyter-notebook.readthedocs.io/en/stable/examples/Notebook/Notebook%20Basics.html#Keyboard-Navigation) for more useful shortcuts. \n"
   ]
  },
  {
   "cell_type": "markdown",
   "metadata": {},
   "source": [
    "## Kernels\n",
    "\n",
    "**Kernels** are the underlying programming language the notebook is using.\n",
    "\n",
    "You might only have Python installed for now, but Jupyter stands for Julia, Python, R and it supports all this languages plus more.\n",
    "\n",
    "To change your kernel gor to *Kernel>Change Kernel*"
   ]
  }
 ],
 "metadata": {
  "kernelspec": {
   "display_name": "Python 3",
   "language": "python",
   "name": "python3"
  },
  "language_info": {
   "codemirror_mode": {
    "name": "ipython",
    "version": 3
   },
   "file_extension": ".py",
   "mimetype": "text/x-python",
   "name": "python",
   "nbconvert_exporter": "python",
   "pygments_lexer": "ipython3",
   "version": "3.11.6"
  }
 },
 "nbformat": 4,
 "nbformat_minor": 4
}
